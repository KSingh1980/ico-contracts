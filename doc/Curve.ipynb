{
 "cells": [
  {
   "cell_type": "code",
   "execution_count": 1,
   "metadata": {
    "collapsed": false
   },
   "outputs": [],
   "source": [
    "%matplotlib inline\n",
    "#import matplotlib\n",
    "#matplotlib.use('tkAgg')\n",
    "import matplotlib.pyplot as plt\n",
    "import sys\n",
    "import math\n",
    "import numpy as np\n",
    "import scipy as sp\n",
    "import scipy.optimize\n",
    "import scipy.misc\n",
    "import scipy.special"
   ]
  },
  {
   "cell_type": "code",
   "execution_count": 2,
   "metadata": {
    "collapsed": true
   },
   "outputs": [],
   "source": [
    "EUR_DECIMALS = 10**18\n",
    "NMK_DECIMALS = 10**18\n",
    "CAP = 15 * 10**8\n",
    "S = -6.5"
   ]
  },
  {
   "cell_type": "code",
   "execution_count": 3,
   "metadata": {
    "collapsed": false
   },
   "outputs": [],
   "source": [
    "def issued(cummulative_euros):\n",
    "    return np.floor((- np.expm1(S * cummulative_euros / EUR_DECIMALS / CAP) ) * NMK_DECIMALS * CAP)\n",
    "\n",
    "def frac(cummulative_euros):\n",
    "    return issued(cummulative_euros) / issued(CAP)\n",
    "\n",
    "def issuance(cummulative_euros):\n",
    "    return - S * NMK_DECIMALS / EUR_DECIMALS * np.exp(S * cummulative_euros / EUR_DECIMALS / CAP)"
   ]
  },
  {
   "cell_type": "code",
   "execution_count": 6,
   "metadata": {
    "collapsed": false
   },
   "outputs": [
    {
     "data": {
      "image/png": "[encoded data removed]",
      "text/plain": [
       "<matplotlib.figure.Figure at 0x7f0dabb52518>"
      ]
     },
     "metadata": {},
     "output_type": "display_data"
    }
   ],
   "source": [
    "e = np.arange(0.0, 1.0 * CAP, 1.0 * CAP / 1000 )\n",
    "n = issued(e * EUR_DECIMALS) / NMK_DECIMALS\n",
    "plt.plot(e, n)\n",
    "\n",
    "plt.xlabel('€ invested')\n",
    "plt.ylabel('NMK issued')\n",
    "plt.title('Neumark issuance curve')\n",
    "plt.grid(True)\n",
    "plt.savefig(\"Issued.png\")\n",
    "plt.show()"
   ]
  },
  {
   "cell_type": "code",
   "execution_count": 7,
   "metadata": {
    "collapsed": false
   },
   "outputs": [
    {
     "data": {
      "image/png": "[encoded data removed]",
      "text/plain": [
       "<matplotlib.figure.Figure at 0x7f0dabadefd0>"
      ]
     },
     "metadata": {},
     "output_type": "display_data"
    }
   ],
   "source": [
    "e = np.arange(0.0, 1.0 * CAP, 1.0 * CAP / 10**3)\n",
    "n = issuance(e * EUR_DECIMALS) \n",
    "plt.plot(e, n)\n",
    "\n",
    "plt.xlabel('€ invested')\n",
    "plt.ylabel('NMK/€')\n",
    "plt.title('Neumark \"price\" curve')\n",
    "plt.grid(True)\n",
    "plt.savefig(\"Issuance.png\")\n",
    "plt.show()"
   ]
  },
  {
   "cell_type": "code",
   "execution_count": 389,
   "metadata": {
    "collapsed": false
   },
   "outputs": [
    {
     "data": {
      "text/plain": [
       "2.5304606143628922e-09"
      ]
     },
     "execution_count": 389,
     "metadata": {},
     "output_type": "execute_result"
    }
   ],
   "source": [
    "issuance(5 * 10**9 * EUR_DECIMALS)"
   ]
  },
  {
   "cell_type": "code",
   "execution_count": 198,
   "metadata": {
    "collapsed": true
   },
   "outputs": [],
   "source": [
    "def ref_exp(k, n, d, e):\n",
    "    '''Computes k · (1 - n / d)^e '''\n",
    "    return k * (1 - n / d) ** e\n",
    "\n",
    "def binomial_exp(k, n, d, e):\n",
    "    '''Computes k · (1 - n / d)^e '''\n",
    "    # https://ethereum.stackexchange.com/questions/10425/is-there-any-efficient-way-to-compute-the-exponentiation-of-a-fraction-and-an-in/10432\n",
    "    s = 0\n",
    "    N = 1\n",
    "    B = 1 # Binomial coefficient\n",
    "    for i in range(22):\n",
    "        \n",
    "        s += k * (N / B) * (-1)**i * ((n ** i) / (d ** i))\n",
    "        \n",
    "        # Update binomial fraction\n",
    "        N = N * (e - i)\n",
    "        B = B * (i + 1)\n",
    "    \n",
    "    return s"
   ]
  },
  {
   "cell_type": "code",
   "execution_count": 324,
   "metadata": {
    "collapsed": true
   },
   "outputs": [],
   "source": [
    "def nChoose(n):\n",
    "    k = 0\n",
    "    N = 1\n",
    "    yield 1\n",
    "    while k < n:\n",
    "        N *= (n - k)\n",
    "        k += 1\n",
    "        N = N // k\n",
    "        yield N"
   ]
  },
  {
   "cell_type": "code",
   "execution_count": 325,
   "metadata": {
    "collapsed": false
   },
   "outputs": [
    {
     "data": {
      "text/plain": [
       "[1, 10, 45, 120, 210, 252, 210, 120, 45, 10, 1]"
      ]
     },
     "execution_count": 325,
     "metadata": {},
     "output_type": "execute_result"
    }
   ],
   "source": [
    "[x for x in nChoose(10)]"
   ]
  },
  {
   "cell_type": "code",
   "execution_count": 553,
   "metadata": {
    "collapsed": false
   },
   "outputs": [],
   "source": [
    "A = 1 - np.exp(S * EUR_DECIMALS / CAP)\n",
    "D = 2**54\n",
    "N = int(np.round(A * D))\n",
    "\n",
    "# Mathematica: round[ (1 - exp[ -65 / (15 * 10^9 * 10^18)  ]) * 2^64  ]\n",
    "D = 2**64\n",
    "N = 0\n",
    "\n",
    "# Mathematica: round[ (1 - exp[ -65 / (15 * 10^9 * 10^18)  ]) * 2^96  ]\n",
    "#D = 2**96\n",
    "#N = 343\n",
    "\n",
    "# Mathematica: round[ (1 - exp[ -65 / (15 * 10^9 * 10^18)  ]) * 2^128  ]\n",
    "# F = 1\n",
    "# D = 2**128\n",
    "# N = 1474556923324\n",
    "\n",
    "# Mathematica: round[ (1 - exp[ -65 * 2^9 / (15 * 10^9 * 10^18)  ]) * 2^128  ]\n",
    "# F = 2**9\n",
    "# D = 2**128\n",
    "# N = 754973144741922\n",
    "\n",
    "# Mathematica: round[ (1 - exp[ -65 * 2^18 / (15 * 10^9 * 10^18)  ]) * 2^128  ]\n",
    "F = 2**18\n",
    "D = 2**128\n",
    "N = 386546250107864134\n",
    "\n",
    "# Mathematica: round[ (1 - exp[ -65 * 2^32 / (15 * 10^9 * 10^18)  ]) * 2^128  ]\n",
    "#F = 2**32\n",
    "#D = 2**128\n",
    "#N = 6333173761767245919948\n",
    "\n",
    "# Mathematica: round[ (1 - exp[ -65 * 2^64 / (15 * 10^9 * 10^18)  ]) * 2^128  ]\n",
    "# F = 2**64\n",
    "# D = 2**128\n",
    "# N = 27200773099516585549495154777920\n",
    "\n",
    "# Mathematica: round[ (1 - exp[ -65 * 2^0 / (15 * 10^9 * 10^18)  ]) * 2^256  ]\n",
    "# F = 2**0\n",
    "# D = 2**256\n",
    "# N = 501765720028370180168807600617155207302701209852026\n",
    "\n",
    "# Mathematica: Rationalize[ (1 - exp[ -65 * 2^18 / (15 * 10^9 * 10^18)  ]), 2^-140 ]\n",
    "F = 2**18\n",
    "D = 880314753605769230770\n",
    "N = 1\n",
    "\n",
    "# Mathematica: Round[1 / (1 - exp[ -65 * 2^0 / (15 * 10^9 * 10^18)  ])]\n",
    "F = 2**0\n",
    "D = 230769230769230769230769231\n",
    "N = 1\n",
    "\n",
    "check = True\n",
    "debug = True\n",
    "def opt_exp_old(k, n, d, e):\n",
    "    '''Computes k - k · (1 - 1 / d)^e '''\n",
    "    global debug, check\n",
    "    i = 0\n",
    "    N = k\n",
    "    s = 0\n",
    "    e += F // 2\n",
    "    e = e // F\n",
    "    while N > 0:\n",
    "        N *= e - i\n",
    "        if check:\n",
    "            assert(N < 2**256)\n",
    "        i += 1\n",
    "        N = N // i\n",
    "        N *= n\n",
    "        if check:\n",
    "            assert(N < 2**256)\n",
    "        N = N // d\n",
    "        s += N\n",
    "        if debug:\n",
    "            print(N)\n",
    "        if N == 0:\n",
    "            break\n",
    "        N *= e - i\n",
    "        if check:\n",
    "            assert(N < 2**256)\n",
    "        i += 1\n",
    "        N = N // i\n",
    "        N *= n\n",
    "        if check:\n",
    "            assert(N < 2**256)\n",
    "        N = N // d\n",
    "        s -= N\n",
    "        if debug:\n",
    "            print(N)\n",
    "    return s\n",
    "\n",
    "def opt_exp(k, d, e):\n",
    "    '''Computes k - k · (1 - 1 / d)^e '''\n",
    "    global debug, check\n",
    "    i = 0\n",
    "    N = k\n",
    "    s = 0\n",
    "    D = d\n",
    "    while N > 0:\n",
    "        N *= e\n",
    "        if check:\n",
    "            assert(N < 2**256)\n",
    "            assert(D < 2**256)\n",
    "            assert(e >= 0)\n",
    "        N = N // D\n",
    "        if debug:\n",
    "            print(N)\n",
    "        if N == 0:\n",
    "            break\n",
    "        s += N\n",
    "        # e -= 1\n",
    "        D += d\n",
    "        \n",
    "        N *= e\n",
    "        if check:\n",
    "            assert(D < 2**256)\n",
    "            assert(N < 2**256)\n",
    "            assert(e >= 0)\n",
    "        N = N // D\n",
    "        if debug:\n",
    "            print(N)\n",
    "        if N == 0:\n",
    "            break\n",
    "        s -= N\n",
    "        # e -= 1\n",
    "        D += d\n",
    "    return s\n",
    "\n",
    "L = 83\n",
    "def implementation(x):\n",
    "    x = int(x)\n",
    "    if x >= L * 10**8 * EUR_DECIMALS:\n",
    "        return CAP * NMK_DECIMALS\n",
    "    my = opt_exp(CAP * NMK_DECIMALS, D, x)\n",
    "    return my"
   ]
  },
  {
   "cell_type": "code",
   "execution_count": 554,
   "metadata": {
    "collapsed": false
   },
   "outputs": [
    {
     "name": "stdout",
     "output_type": "stream",
     "text": [
      "6\n",
      "0\n"
     ]
    },
    {
     "data": {
      "text/plain": [
       "6e-18"
      ]
     },
     "execution_count": 554,
     "metadata": {},
     "output_type": "execute_result"
    }
   ],
   "source": [
    "implementation(1) / NMK_DECIMALS"
   ]
  },
  {
   "cell_type": "code",
   "execution_count": 555,
   "metadata": {
    "collapsed": false
   },
   "outputs": [
    {
     "data": {
      "text/plain": [
       "8300000000000000000000000000"
      ]
     },
     "execution_count": 555,
     "metadata": {},
     "output_type": "execute_result"
    }
   ],
   "source": [
    "L * 10**8 * EUR_DECIMALS"
   ]
  },
  {
   "cell_type": "code",
   "execution_count": 556,
   "metadata": {
    "collapsed": false
   },
   "outputs": [
    {
     "data": {
      "text/plain": [
       "1500000000.0"
      ]
     },
     "execution_count": 556,
     "metadata": {},
     "output_type": "execute_result"
    }
   ],
   "source": [
    "implementation(L * 10**8 * EUR_DECIMALS) / NMK_DECIMALS"
   ]
  },
  {
   "cell_type": "code",
   "execution_count": 557,
   "metadata": {
    "collapsed": false
   },
   "outputs": [
    {
     "data": {
      "text/plain": [
       "1499999999.9999995"
      ]
     },
     "execution_count": 557,
     "metadata": {},
     "output_type": "execute_result"
    }
   ],
   "source": [
    "issued(L * 10**8 * EUR_DECIMALS) / NMK_DECIMALS"
   ]
  },
  {
   "cell_type": "code",
   "execution_count": 558,
   "metadata": {
    "collapsed": false
   },
   "outputs": [
    {
     "data": {
      "image/png": "[encoded data removed]",
      "text/plain": [
       "<matplotlib.figure.Figure at 0x7f0d6d90afd0>"
      ]
     },
     "metadata": {},
     "output_type": "display_data"
    }
   ],
   "source": [
    "debug = False\n",
    "e = np.arange(0.0, 10.0 * 10**9, 10**6)\n",
    "i = np.array([implementation(x * EUR_DECIMALS) for x in e]) / NMK_DECIMALS\n",
    "a = issued(e * EUR_DECIMALS) / NMK_DECIMALS\n",
    "n = np.abs(i - a)\n",
    "plt.plot(e, n)\n",
    "\n",
    "plt.xlabel('€ invested')\n",
    "plt.ylabel('Absolute error (NMK)')\n",
    "plt.title('Neumark curve approximation')\n",
    "plt.grid(True)\n",
    "plt.savefig(\"Issuance.png\")\n",
    "plt.show()"
   ]
  },
  {
   "cell_type": "code",
   "execution_count": 559,
   "metadata": {
    "collapsed": false
   },
   "outputs": [
    {
     "data": {
      "image/png": "[encoded data removed]",
      "text/plain": [
       "<matplotlib.figure.Figure at 0x7f0d6d7d6978>"
      ]
     },
     "metadata": {},
     "output_type": "display_data"
    }
   ],
   "source": [
    "debug = False\n",
    "e = np.arange(0.0, 1.0, 0.0001)\n",
    "i = np.array([implementation(x * EUR_DECIMALS) for x in e]) / NMK_DECIMALS\n",
    "a = issued(e * EUR_DECIMALS) / NMK_DECIMALS\n",
    "n = np.abs(i - a)\n",
    "plt.plot(e, n)\n",
    "\n",
    "plt.xlabel('€ invested')\n",
    "plt.ylabel('Absolute error (NMK)')\n",
    "plt.title('Neumark curve approximation')\n",
    "plt.grid(True)\n",
    "plt.savefig(\"Issuance.png\")\n",
    "plt.show()"
   ]
  },
  {
   "cell_type": "code",
   "execution_count": 532,
   "metadata": {
    "collapsed": false
   },
   "outputs": [
    {
     "data": {
      "text/plain": [
       "0"
      ]
     },
     "execution_count": 532,
     "metadata": {},
     "output_type": "execute_result"
    }
   ],
   "source": [
    "implementation(0)"
   ]
  },
  {
   "cell_type": "code",
   "execution_count": 502,
   "metadata": {
    "collapsed": false
   },
   "outputs": [],
   "source": [
    "previous = 0\n",
    "for x in range(10**4):\n",
    "    new = implementation(x)\n",
    "    assert(new >= previous)\n",
    "    previous = new"
   ]
  },
  {
   "cell_type": "code",
   "execution_count": 26,
   "metadata": {
    "collapsed": false
   },
   "outputs": [
    {
     "data": {
      "text/plain": [
       "0.06666666665297862"
      ]
     },
     "execution_count": 26,
     "metadata": {},
     "output_type": "execute_result"
    }
   ],
   "source": [
    "implementation(10**8)/implementation(CAP)"
   ]
  },
  {
   "cell_type": "code",
   "execution_count": 27,
   "metadata": {
    "collapsed": false
   },
   "outputs": [
    {
     "data": {
      "text/plain": [
       "876676907"
      ]
     },
     "execution_count": 27,
     "metadata": {},
     "output_type": "execute_result"
    }
   ],
   "source": [
    "implementation(135000001)"
   ]
  },
  {
   "cell_type": "code",
   "execution_count": 28,
   "metadata": {
    "collapsed": false
   },
   "outputs": [
    {
     "data": {
      "text/plain": [
       "877500006.0"
      ]
     },
     "execution_count": 28,
     "metadata": {},
     "output_type": "execute_result"
    }
   ],
   "source": [
    "np.floor(issued(135000001))"
   ]
  },
  {
   "cell_type": "code",
   "execution_count": 29,
   "metadata": {
    "collapsed": false
   },
   "outputs": [
    {
     "data": {
      "text/plain": [
       "664341210"
      ]
     },
     "execution_count": 29,
     "metadata": {},
     "output_type": "execute_result"
    }
   ],
   "source": [
    "664341210 # Wolfram alpha"
   ]
  },
  {
   "cell_type": "code",
   "execution_count": 30,
   "metadata": {
    "collapsed": false
   },
   "outputs": [
    {
     "data": {
      "text/plain": [
       "343"
      ]
     },
     "execution_count": 30,
     "metadata": {},
     "output_type": "execute_result"
    }
   ],
   "source": [
    "N"
   ]
  },
  {
   "cell_type": "code",
   "execution_count": 31,
   "metadata": {
    "collapsed": false
   },
   "outputs": [
    {
     "data": {
      "text/plain": [
       "78062393"
      ]
     },
     "execution_count": 31,
     "metadata": {},
     "output_type": "execute_result"
    }
   ],
   "source": [
    "78062393"
   ]
  },
  {
   "cell_type": "code",
   "execution_count": 32,
   "metadata": {
    "collapsed": false
   },
   "outputs": [
    {
     "data": {
      "text/plain": [
       "-6.5"
      ]
     },
     "execution_count": 32,
     "metadata": {},
     "output_type": "execute_result"
    }
   ],
   "source": [
    "S"
   ]
  },
  {
   "cell_type": "code",
   "execution_count": 33,
   "metadata": {
    "collapsed": false
   },
   "outputs": [
    {
     "data": {
      "text/plain": [
       "-4.333333333333333e-09"
      ]
     },
     "execution_count": 33,
     "metadata": {},
     "output_type": "execute_result"
    }
   ],
   "source": [
    "S/CAP"
   ]
  },
  {
   "cell_type": "code",
   "execution_count": 34,
   "metadata": {
    "collapsed": false
   },
   "outputs": [
    {
     "data": {
      "text/plain": [
       "1500000000"
      ]
     },
     "execution_count": 34,
     "metadata": {},
     "output_type": "execute_result"
    }
   ],
   "source": [
    "CAP"
   ]
  },
  {
   "cell_type": "code",
   "execution_count": 35,
   "metadata": {
    "collapsed": false
   },
   "outputs": [
    {
     "data": {
      "text/plain": [
       "[0, 6, 13, 19, 26, 32, 39, 45, 52, 58]"
      ]
     },
     "execution_count": 35,
     "metadata": {},
     "output_type": "execute_result"
    }
   ],
   "source": [
    "[int(x) for x in \n",
    "issued(np.array(range(10)))]"
   ]
  },
  {
   "cell_type": "code",
   "execution_count": 36,
   "metadata": {
    "collapsed": false
   },
   "outputs": [
    {
     "data": {
      "text/plain": [
       "12"
      ]
     },
     "execution_count": 36,
     "metadata": {},
     "output_type": "execute_result"
    }
   ],
   "source": [
    "implementation(2)"
   ]
  },
  {
   "cell_type": "code",
   "execution_count": 37,
   "metadata": {
    "collapsed": false
   },
   "outputs": [
    {
     "data": {
      "text/plain": [
       "[[0, 0],\n",
       " [1, 6],\n",
       " [2, 13],\n",
       " [3, 19],\n",
       " [4, 26],\n",
       " [5, 32],\n",
       " [6, 39],\n",
       " [7, 45],\n",
       " [8, 52],\n",
       " [9, 58]]"
      ]
     },
     "execution_count": 37,
     "metadata": {},
     "output_type": "execute_result"
    }
   ],
   "source": [
    "[[x, int(issued(x))] for x in range(0, 10**1, 10**0)]"
   ]
  },
  {
   "cell_type": "code",
   "execution_count": null,
   "metadata": {
    "collapsed": true
   },
   "outputs": [],
   "source": []
  }
 ],
 "metadata": {
  "kernelspec": {
   "display_name": "Python 3",
   "language": "python",
   "name": "python3"
  },
  "language_info": {
   "codemirror_mode": {
    "name": "ipython",
    "version": 3
   },
   "file_extension": ".py",
   "mimetype": "text/x-python",
   "name": "python",
   "nbconvert_exporter": "python",
   "pygments_lexer": "ipython3",
   "version": "3.5.3"
  }
 },
 "nbformat": 4,
 "nbformat_minor": 2
}
